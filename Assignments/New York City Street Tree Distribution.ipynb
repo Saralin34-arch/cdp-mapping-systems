{
 "cells": [
  {
   "cell_type": "code",
   "execution_count": 1,
   "id": "82e4747d",
   "metadata": {},
   "outputs": [],
   "source": [
    "# the bare minimum\n",
    "import matplotlib.pyplot as plt  # for plotting\n",
    "import geopandas as gpd  # for geospatial data handling\n",
    "from matplotlib.lines import Line2D\n",
    "\n",
    "# more advanced\n",
    "from lonboard._map import Map\n",
    "from lonboard._layer import PolygonLayer  # for mapping in 3D\n",
    "from lonboard.colormap import (\n",
    "    apply_categorical_cmap,\n",
    "    apply_continuous_cmap,\n",
    ")  # for assigning colors\n",
    "from palettable.colorbrewer.sequential import PuRd_9  # for color palettes\n",
    "from matplotlib.colors import LogNorm  # for logarithmic normalization\n",
    "import pygwalker as pyg  # for creating interactive data visualizations"
   ]
  },
  {
   "cell_type": "code",
   "execution_count": 2,
   "id": "243d1be1",
   "metadata": {},
   "outputs": [],
   "source": [
    "pluto = gpd.read_file(\n",
    "    \"/Users/sara1/Desktop/MSCDP/Mapping System/Assignment One/NewYorkCity_StreetTreeCensus_2005_20250710.geojson\"\n",
    ")"
   ]
  },
  {
   "cell_type": "code",
   "execution_count": 3,
   "id": "adb9015f",
   "metadata": {},
   "outputs": [
    {
     "data": {
      "text/plain": [
       "Index(['nta', 'horz_grate', 'sidw_crack', 'zipcode', 'soil_lvl', 'inf_outlet',\n",
       "       'latitude', 'nta_name', 'state', 'inf_canopy', 'y_sp', 'wire_2_nd',\n",
       "       'inf_guard', 'spc_common', 'horz_other', 'x_sp', 'inf_other',\n",
       "       'tree_loc', 'wire_other', 'wire_prime', 'longitude', 'boro_ct',\n",
       "       'zip_city', 'sidw_raise', 'spc_latin', 'vert_other', 'cen_year',\n",
       "       'boroname', 'st_senate', 'wire_htap', 'status', 'vert_tgrd', 'cncldist',\n",
       "       'inf_lights', 'vert_wall', 'st_assem', 'cb_num', 'pit_type',\n",
       "       'trunk_dmg', 'address', 'horz_plant', 'inf_wires', 'borocode',\n",
       "       'horz_blck', 'vert_pgrd', 'tree_dbh', 'inf_paving', 'inf_shoes',\n",
       "       'geometry'],\n",
       "      dtype='object')"
      ]
     },
     "execution_count": 3,
     "metadata": {},
     "output_type": "execute_result"
    }
   ],
   "source": [
    "pluto.columns"
   ]
  },
  {
   "cell_type": "code",
   "execution_count": null,
   "id": "dffc9040",
   "metadata": {},
   "outputs": [],
   "source": [
    "# In this example, we are using matplotlib to map our pluto data.\n",
    "# Under the hood, matplotlib is drawing each individual polygon (>800,000),\n",
    "# which is resource intensive and hard to discern on a map! This is a good\n",
    "# place to start, but we'll soon move on to more advanced mapping techniques.\n",
    "\n",
    "pluto.plot(figsize=(10, 10)).set_axis_off()\n",
    "plt.title(\"NYC MapPLUTO\")\n",
    "plt.show()"
   ]
  }
 ],
 "metadata": {
  "kernelspec": {
   "display_name": "CDP",
   "language": "python",
   "name": "python3"
  },
  "language_info": {
   "codemirror_mode": {
    "name": "ipython",
    "version": 3
   },
   "file_extension": ".py",
   "mimetype": "text/x-python",
   "name": "python",
   "nbconvert_exporter": "python",
   "pygments_lexer": "ipython3",
   "version": "3.13.5"
  }
 },
 "nbformat": 4,
 "nbformat_minor": 5
}
